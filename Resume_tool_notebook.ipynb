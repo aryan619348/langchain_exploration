{
 "cells": [
  {
   "cell_type": "code",
   "execution_count": 91,
   "metadata": {},
   "outputs": [],
   "source": [
    "from langchain.chat_models import ChatOpenAI\n",
    "from langchain.chains.question_answering import load_qa_chain\n",
    "import pickle\n",
    "from dotenv import load_dotenv\n",
    "import os\n",
    "#from langchain.tools import DuckDuckGoSearchTool\n",
    "from langchain.agents import Tool\n",
    "from langchain.tools import BaseTool\n",
    "load_dotenv()\n",
    "os.environ[\"OPENAI_API_KEY\"] = os.getenv('OPENAI_API_KEY')"
   ]
  },
  {
   "cell_type": "code",
   "execution_count": 92,
   "metadata": {},
   "outputs": [],
   "source": [
    "llm = ChatOpenAI(temperature=0,model_name='gpt-3.5-turbo')"
   ]
  },
  {
   "cell_type": "code",
   "execution_count": 117,
   "metadata": {},
   "outputs": [],
   "source": [
    "def resume_question(input=\"\"):\n",
    "    with open(\"graphic_designer.pkl\", \"rb\") as f:\n",
    "        docsearch = pickle.load(f)\n",
    "    chain = load_qa_chain(llm=llm, chain_type=\"stuff\")\n",
    "    docs = docsearch.similarity_search(input)\n",
    "    answer=chain.run(input_documents=docs, question=input)\n",
    "    return answer\n",
    "\n",
    "resume_tool = Tool(\n",
    "    name='resume_question',\n",
    "    func= resume_question,\n",
    "    description=\"Useful for when you need to answer questions about the resumes and the candidates. input is the question\"\n",
    ")\n",
    "\n",
    "#search = DuckDuckGoSearchTool()\n",
    "\n",
    "def jobsite_question(input=\"\",jobsite=\"\"):\n",
    "    with open(\"jobsite_embeddings.pkl\", \"rb\") as f:\n",
    "        jobsite = pickle.load(f)\n",
    "    chain = load_qa_chain(llm=llm, chain_type=\"stuff\")\n",
    "    docs = jobsite.similarity_search(input)\n",
    "    answer=chain.run(input_documents=docs, question=input)\n",
    "    return answer\n",
    "\n",
    "job_tool = Tool(\n",
    "    name='job_question',\n",
    "    func= jobsite_question,\n",
    "    description=\"Useful for when you need to answer questions about the job requirements .input is the question\"\n",
    ")"
   ]
  },
  {
   "cell_type": "code",
   "execution_count": 118,
   "metadata": {},
   "outputs": [],
   "source": [
    "from langchain.agents import initialize_agent\n",
    "from langchain.chains.conversation.memory import ConversationBufferWindowMemory\n",
    "\n",
    "tools =[resume_tool,job_tool]\n",
    "\n",
    "memory = ConversationBufferWindowMemory(\n",
    "    memory_key='chat_history',\n",
    "    k=5,\n",
    "    return_messages=True\n",
    ")"
   ]
  },
  {
   "cell_type": "code",
   "execution_count": 119,
   "metadata": {},
   "outputs": [],
   "source": [
    "from langchain.tools import DuckDuckGoSearchRun\n",
    "\n",
    "\n",
    "def duck(input=\"\"):\n",
    "    search = DuckDuckGoSearchRun()\n",
    "    answer=search.run(input)\n",
    "    return answer\n",
    "\n",
    "\n",
    "search_tool = Tool(\n",
    "    name='search_question',\n",
    "    func= duck,\n",
    "    description=\"Useful for when you need to answer questions that are unknown from the internet. input is the question\"\n",
    ")\n"
   ]
  },
  {
   "cell_type": "code",
   "execution_count": 120,
   "metadata": {},
   "outputs": [],
   "source": [
    "tools =[resume_tool,job_tool]\n",
    "\n",
    "memory = ConversationBufferWindowMemory(\n",
    "    memory_key='chat_history',\n",
    "    k=5,\n",
    "    return_messages=True\n",
    ")"
   ]
  },
  {
   "cell_type": "code",
   "execution_count": 121,
   "metadata": {},
   "outputs": [],
   "source": [
    "conversational_agent = initialize_agent(\n",
    "    agent='zero-shot-react-description',\n",
    "    tools=tools,\n",
    "    llm=llm,\n",
    "    verbose=True,\n",
    "    max_iterations=3,\n",
    "    early_stopping_method='generate'\n",
    ")"
   ]
  },
  {
   "cell_type": "code",
   "execution_count": 126,
   "metadata": {},
   "outputs": [
    {
     "name": "stdout",
     "output_type": "stream",
     "text": [
      "\n",
      "\n",
      "\u001b[1m> Entering new AgentExecutor chain...\u001b[0m\n",
      "\u001b[32;1m\u001b[1;3mI need to evaluate the candidate's qualifications and compare them to the job requirements.\n",
      "Action: resume_question\n",
      "Action Input: \"What are the candidate's qualifications and experience?\"\u001b[0m\n",
      "Observation: \u001b[36;1m\u001b[1;3mThe candidate has a Bachelor of Fine Arts in Graphic Design from the University of North Carolina at Charlotte, with a GPA of 3.75/4.0. They have experience as a Graphic Design Intern at Wray Ward, where they created various digital ads to help increase connection with students on Facebook, Instagram & Twitter, developed images for the main website utilizing Adobe Illustrator and Photoshop, and researched brand standards of the university. They also have experience as a Graphic Design Intern and Gallery Assistant at UNC Charlotte, where they assisted gallery staff at art shows & events, maintained social media for the gallery, and greeted visitors to the gallery and provided information regarding the current exhibits. Additionally, they have skills in Adobe Illustrator, Adobe Photoshop, Adobe InDesign, Adobe Light Room, Microsoft Office Suite, Instagram, Facebook, Twitter, and LinkedIn.\u001b[0m\n",
      "Thought:\u001b[32;1m\u001b[1;3mI need to compare the candidate's qualifications and experience to the job requirements.\n",
      "Action: job_question\n",
      "Action Input: \"What are the job requirements?\"\u001b[0m\n",
      "Observation: \u001b[33;1m\u001b[1;3mThe job requirements for the Operations Expert role at Apple include managing and meeting multiple inventory deadlines each week, being willing to observe guidelines to allow secure access to products and movement through the stockroom, and being flexible with your schedule as your work hours will be based on business needs. Additionally, you should have strong leadership and organizational skills to guide and mentor your team and quickly evaluate every situation. The base pay for this role will depend on your skills, qualifications, experience, and location, and you will also receive benefits including comprehensive medical and dental coverage, retirement benefits, and a range of discounted products and free services.\u001b[0m\n",
      "Thought:\u001b[32;1m\u001b[1;3mBased on the candidate's qualifications and experience, they seem to have the necessary skills for the job.\n",
      "Action: resume_question\n",
      "Action Input: \"Does the candidate have any experience managing inventory or leading a team?\"\u001b[0m\n",
      "Observation: \u001b[36;1m\u001b[1;3mThere is no information provided in the context that suggests the candidate has experience managing inventory or leading a team.\u001b[0m\n",
      "Thought:\u001b[32;1m\u001b[1;3mFinal Answer: Based on the candidate's qualifications and experience, they do not seem suitable for the Operations Expert role at Apple as they do not have experience managing inventory or leading a team.\u001b[0m\n",
      "\n",
      "\u001b[1m> Finished chain.\u001b[0m\n"
     ]
    },
    {
     "data": {
      "text/plain": [
       "{'input': 'Is the candidate suitable for the job,  give only a yes and no answer. A maybe means a no?',\n",
       " 'output': \"Based on the candidate's qualifications and experience, they do not seem suitable for the Operations Expert role at Apple as they do not have experience managing inventory or leading a team.\"}"
      ]
     },
     "execution_count": 126,
     "metadata": {},
     "output_type": "execute_result"
    }
   ],
   "source": [
    "conversational_agent(\"Is the candidate suitable for the job,  give only a yes and no answer. A maybe means a no?\")"
   ]
  },
  {
   "cell_type": "code",
   "execution_count": null,
   "metadata": {},
   "outputs": [],
   "source": []
  }
 ],
 "metadata": {
  "kernelspec": {
   "display_name": "pdfgpt",
   "language": "python",
   "name": "python3"
  },
  "language_info": {
   "codemirror_mode": {
    "name": "ipython",
    "version": 3
   },
   "file_extension": ".py",
   "mimetype": "text/x-python",
   "name": "python",
   "nbconvert_exporter": "python",
   "pygments_lexer": "ipython3",
   "version": "3.10.11"
  },
  "orig_nbformat": 4
 },
 "nbformat": 4,
 "nbformat_minor": 2
}
