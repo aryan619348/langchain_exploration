{
 "cells": [
  {
   "cell_type": "code",
   "execution_count": 5,
   "metadata": {},
   "outputs": [],
   "source": [
    "from langchain import OpenAI \n",
    "from langchain.chat_models import ChatOpenAI\n",
    "from langchain.chains.conversation.memory import ConversationBufferWindowMemory\n",
    "from langchain.agents import Tool\n",
    "from langchain.tools import BaseTool\n",
    "from langchain.chains.question_answering import load_qa_chain"
   ]
  },
  {
   "cell_type": "code",
   "execution_count": 3,
   "metadata": {},
   "outputs": [],
   "source": [
    "llm = ChatOpenAI(temperature=0,model_name='gpt-3.5-turbo')"
   ]
  },
  {
   "cell_type": "code",
   "execution_count": 30,
   "metadata": {},
   "outputs": [],
   "source": [
    "import pickle\n",
    "with open(\"pdf_embeddings.pkl\", \"rb\") as f:\n",
    "    pdf = pickle.load(f)\n",
    "\n",
    "with open(\"jobsite_embeddings.pkl\", \"rb\") as f:\n",
    "    jobsite = pickle.load(f)"
   ]
  },
  {
   "cell_type": "code",
   "execution_count": 31,
   "metadata": {},
   "outputs": [],
   "source": [
    "def resume_question(input=\"\"):\n",
    "    chain = load_qa_chain(llm=llm, chain_type=\"stuff\")\n",
    "    docs = pdf.similarity_search(input)\n",
    "    answer=chain.run(input_documents=docs, question=input)\n",
    "    return answer"
   ]
  },
  {
   "cell_type": "code",
   "execution_count": 44,
   "metadata": {},
   "outputs": [],
   "source": [
    "resume_tool = Tool(\n",
    "    name='resume_question',\n",
    "    func= resume_question,\n",
    "    description=\"Useful for when you need to answer questions about the resume. input is the question\"\n",
    ")"
   ]
  },
  {
   "cell_type": "code",
   "execution_count": 45,
   "metadata": {},
   "outputs": [],
   "source": [
    "def jobsite_question(input=\"\"):\n",
    "    chain = load_qa_chain(llm=llm, chain_type=\"stuff\")\n",
    "    docs = jobsite.similarity_search(input)\n",
    "    answer=chain.run(input_documents=docs, question=input)\n",
    "    return answer"
   ]
  },
  {
   "cell_type": "code",
   "execution_count": 47,
   "metadata": {},
   "outputs": [],
   "source": [
    "job_tool = Tool(\n",
    "    name='job_question',\n",
    "    func= jobsite_question,\n",
    "    description=\"Useful for when you need to answer questions about the job. input is the question\"\n",
    ")"
   ]
  },
  {
   "cell_type": "code",
   "execution_count": 48,
   "metadata": {},
   "outputs": [],
   "source": [
    "from langchain.agents import initialize_agent\n",
    "\n",
    "tools =[resume_tool,job_tool]\n",
    "\n",
    "memory = ConversationBufferWindowMemory(\n",
    "    memory_key='chat_history',\n",
    "    k=5,\n",
    "    return_messages=True\n",
    ")\n"
   ]
  },
  {
   "cell_type": "code",
   "execution_count": 49,
   "metadata": {},
   "outputs": [],
   "source": [
    "conversational_agent = initialize_agent(\n",
    "    agent='chat-conversational-react-description',\n",
    "    tools=tools,\n",
    "    llm=llm,\n",
    "    verbose=True,\n",
    "    max_iterations=3,\n",
    "    early_stopping_method='generate',\n",
    "    memory=memory\n",
    ")"
   ]
  },
  {
   "cell_type": "code",
   "execution_count": 50,
   "metadata": {},
   "outputs": [
    {
     "name": "stdout",
     "output_type": "stream",
     "text": [
      "\n",
      "\n",
      "\u001b[1m> Entering new AgentExecutor chain...\u001b[0m\n",
      "\u001b[32;1m\u001b[1;3m{\n",
      "    \"action\": \"resume_question\",\n",
      "    \"action_input\": \"what skills are mentioned in the resume?\"\n",
      "}\u001b[0m\n",
      "Observation: \u001b[36;1m\u001b[1;3mThe skills mentioned in the resume are:\n",
      "\n",
      "Technical Skills:\n",
      "- Python OpenCV, TensorFlow, MobileNets, NumPy, Pandas, Matplotlib, Seaborn, Plotly and Cuinks, Scikit-Learn\n",
      "- Cloud Microsoft Azure\n",
      "- Programming Languages Python, Java, C, C++\n",
      "- Database Management MySQL\n",
      "- IDEs Intellij Environment, Visual Studio\n",
      "- OS MacOS, Linux & Windows\n",
      "\n",
      "Certifications:\n",
      "- Data Analytics using Deep Learning, NUS Singapore\n",
      "- Hewlett Packard Enterprise Education Services, Deep Learning\n",
      "- CORPORATE GURUKUL Global Academic Internship Programme on 'Data Analytics using Deep Learning\n",
      "- Introduction to TensorFlow for Artificial Intelligence, Machine Learning, and Deep Learning\n",
      "\n",
      "Soft Skills:\n",
      "- Highly motivated to learn about new tools and technologies\n",
      "- Ability to Work Under Pressure\n",
      "- Detail-Oriented\n",
      "- Critical Thinker\n",
      "- Problem Solver\n",
      "- Self-Starter\n",
      "- Great at Time Management\n",
      "- Adaptability\n",
      "- Great Interpersonal Skills\u001b[0m\n",
      "Thought:\u001b[32;1m\u001b[1;3m{\n",
      "    \"action\": \"Final Answer\",\n",
      "    \"action_input\": \"The skills mentioned in the resume are Technical Skills such as Python OpenCV, TensorFlow, MobileNets, NumPy, Pandas, Matplotlib, Seaborn, Plotly and Cuinks, Scikit-Learn, Cloud Microsoft Azure, Programming Languages Python, Java, C, C++, Database Management MySQL, IDEs Intellij Environment, Visual Studio, OS MacOS, Linux & Windows. Additionally, there are Certifications in Data Analytics using Deep Learning, Hewlett Packard Enterprise Education Services, Deep Learning, CORPORATE GURUKUL Global Academic Internship Programme on 'Data Analytics using Deep Learning, Introduction to TensorFlow for Artificial Intelligence, Machine Learning, and Deep Learning. Finally, there are Soft Skills such as being highly motivated to learn about new tools and technologies, ability to work under pressure, detail-oriented, critical thinker, problem solver, self-starter, great at time management, adaptability, and great interpersonal skills.\"\n",
      "}\u001b[0m\n",
      "\n",
      "\u001b[1m> Finished chain.\u001b[0m\n"
     ]
    },
    {
     "data": {
      "text/plain": [
       "{'input': 'what skills are mentioned in the resume?',\n",
       " 'chat_history': [],\n",
       " 'output': \"The skills mentioned in the resume are Technical Skills such as Python OpenCV, TensorFlow, MobileNets, NumPy, Pandas, Matplotlib, Seaborn, Plotly and Cuinks, Scikit-Learn, Cloud Microsoft Azure, Programming Languages Python, Java, C, C++, Database Management MySQL, IDEs Intellij Environment, Visual Studio, OS MacOS, Linux & Windows. Additionally, there are Certifications in Data Analytics using Deep Learning, Hewlett Packard Enterprise Education Services, Deep Learning, CORPORATE GURUKUL Global Academic Internship Programme on 'Data Analytics using Deep Learning, Introduction to TensorFlow for Artificial Intelligence, Machine Learning, and Deep Learning. Finally, there are Soft Skills such as being highly motivated to learn about new tools and technologies, ability to work under pressure, detail-oriented, critical thinker, problem solver, self-starter, great at time management, adaptability, and great interpersonal skills.\"}"
      ]
     },
     "execution_count": 50,
     "metadata": {},
     "output_type": "execute_result"
    }
   ],
   "source": [
    "conversational_agent(\"what skills are mentioned in the resume?\")"
   ]
  },
  {
   "cell_type": "code",
   "execution_count": 51,
   "metadata": {},
   "outputs": [
    {
     "name": "stdout",
     "output_type": "stream",
     "text": [
      "\n",
      "\n",
      "\u001b[1m> Entering new AgentExecutor chain...\u001b[0m\n",
      "\u001b[32;1m\u001b[1;3m{\n",
      "    \"action\": \"job_question\",\n",
      "    \"action_input\": \"What are the required skills for the job?\"\n",
      "}\u001b[0m\n",
      "Observation: \u001b[33;1m\u001b[1;3mThe required skills for the Operations Expert job include the ability to think quickly and perform problem-solving tasks, leadership skills, and strong organizational skills. Additionally, you should be able to manage and meet multiple inventory deadlines each week, observe guidelines to allow secure access to products and movement through the stockroom, and be flexible with your schedule.\u001b[0m\n",
      "Thought:\u001b[32;1m\u001b[1;3m{\n",
      "    \"action\": \"Final Answer\",\n",
      "    \"action_input\": \"The required skills for the Operations Expert job include the ability to think quickly and perform problem-solving tasks, leadership skills, and strong organizational skills. Additionally, you should be able to manage and meet multiple inventory deadlines each week, observe guidelines to allow secure access to products and movement through the stockroom, and be flexible with your schedule.\"\n",
      "}\u001b[0m\n",
      "\n",
      "\u001b[1m> Finished chain.\u001b[0m\n"
     ]
    },
    {
     "data": {
      "text/plain": [
       "{'input': 'what skills are mentioned in the job?',\n",
       " 'chat_history': [HumanMessage(content='what skills are mentioned in the resume?', additional_kwargs={}, example=False),\n",
       "  AIMessage(content=\"The skills mentioned in the resume are Technical Skills such as Python OpenCV, TensorFlow, MobileNets, NumPy, Pandas, Matplotlib, Seaborn, Plotly and Cuinks, Scikit-Learn, Cloud Microsoft Azure, Programming Languages Python, Java, C, C++, Database Management MySQL, IDEs Intellij Environment, Visual Studio, OS MacOS, Linux & Windows. Additionally, there are Certifications in Data Analytics using Deep Learning, Hewlett Packard Enterprise Education Services, Deep Learning, CORPORATE GURUKUL Global Academic Internship Programme on 'Data Analytics using Deep Learning, Introduction to TensorFlow for Artificial Intelligence, Machine Learning, and Deep Learning. Finally, there are Soft Skills such as being highly motivated to learn about new tools and technologies, ability to work under pressure, detail-oriented, critical thinker, problem solver, self-starter, great at time management, adaptability, and great interpersonal skills.\", additional_kwargs={}, example=False)],\n",
       " 'output': 'The required skills for the Operations Expert job include the ability to think quickly and perform problem-solving tasks, leadership skills, and strong organizational skills. Additionally, you should be able to manage and meet multiple inventory deadlines each week, observe guidelines to allow secure access to products and movement through the stockroom, and be flexible with your schedule.'}"
      ]
     },
     "execution_count": 51,
     "metadata": {},
     "output_type": "execute_result"
    }
   ],
   "source": [
    "conversational_agent(\"what skills are mentioned in the job?\")"
   ]
  },
  {
   "cell_type": "code",
   "execution_count": 52,
   "metadata": {},
   "outputs": [
    {
     "name": "stdout",
     "output_type": "stream",
     "text": [
      "\n",
      "\n",
      "\u001b[1m> Entering new AgentExecutor chain...\u001b[0m\n",
      "\u001b[32;1m\u001b[1;3m```json\n",
      "{\n",
      "    \"action\": \"job_question\",\n",
      "    \"action_input\": \"What are the required skills for the Operations Expert job?\"\n",
      "}\n",
      "```\u001b[0m\n",
      "Observation: \u001b[33;1m\u001b[1;3mThe required skills for the Operations Expert job include the ability to think quickly and perform problem-solving tasks, leadership skills, and strong organizational skills. The job also requires the ability to manage and meet multiple inventory deadlines each week, willingness to observe guidelines to allow secure access to products and movement through the stockroom, and flexibility with work hours based on business needs.\u001b[0m\n",
      "Thought:\u001b[32;1m\u001b[1;3m```json\n",
      "{\n",
      "    \"action\": \"Final Answer\",\n",
      "    \"action_input\": \"The required skills for the Operations Expert job include the ability to think quickly and perform problem-solving tasks, leadership skills, and strong organizational skills. The job also requires the ability to manage and meet multiple inventory deadlines each week, willingness to observe guidelines to allow secure access to products and movement through the stockroom, and flexibility with work hours based on business needs.\"\n",
      "}\n",
      "```\u001b[0m\n",
      "\n",
      "\u001b[1m> Finished chain.\u001b[0m\n"
     ]
    },
    {
     "data": {
      "text/plain": [
       "{'input': 'does the candidate have skills to do the job?',\n",
       " 'chat_history': [HumanMessage(content='what skills are mentioned in the resume?', additional_kwargs={}, example=False),\n",
       "  AIMessage(content=\"The skills mentioned in the resume are Technical Skills such as Python OpenCV, TensorFlow, MobileNets, NumPy, Pandas, Matplotlib, Seaborn, Plotly and Cuinks, Scikit-Learn, Cloud Microsoft Azure, Programming Languages Python, Java, C, C++, Database Management MySQL, IDEs Intellij Environment, Visual Studio, OS MacOS, Linux & Windows. Additionally, there are Certifications in Data Analytics using Deep Learning, Hewlett Packard Enterprise Education Services, Deep Learning, CORPORATE GURUKUL Global Academic Internship Programme on 'Data Analytics using Deep Learning, Introduction to TensorFlow for Artificial Intelligence, Machine Learning, and Deep Learning. Finally, there are Soft Skills such as being highly motivated to learn about new tools and technologies, ability to work under pressure, detail-oriented, critical thinker, problem solver, self-starter, great at time management, adaptability, and great interpersonal skills.\", additional_kwargs={}, example=False),\n",
       "  HumanMessage(content='what skills are mentioned in the job?', additional_kwargs={}, example=False),\n",
       "  AIMessage(content='The required skills for the Operations Expert job include the ability to think quickly and perform problem-solving tasks, leadership skills, and strong organizational skills. Additionally, you should be able to manage and meet multiple inventory deadlines each week, observe guidelines to allow secure access to products and movement through the stockroom, and be flexible with your schedule.', additional_kwargs={}, example=False)],\n",
       " 'output': 'The required skills for the Operations Expert job include the ability to think quickly and perform problem-solving tasks, leadership skills, and strong organizational skills. The job also requires the ability to manage and meet multiple inventory deadlines each week, willingness to observe guidelines to allow secure access to products and movement through the stockroom, and flexibility with work hours based on business needs.'}"
      ]
     },
     "execution_count": 52,
     "metadata": {},
     "output_type": "execute_result"
    }
   ],
   "source": [
    "conversational_agent(\"does the candidate have skills to do the job?\")"
   ]
  },
  {
   "cell_type": "code",
   "execution_count": 53,
   "metadata": {},
   "outputs": [
    {
     "name": "stdout",
     "output_type": "stream",
     "text": [
      "\n",
      "\n",
      "\u001b[1m> Entering new AgentExecutor chain...\u001b[0m\n",
      "\u001b[32;1m\u001b[1;3m{\n",
      "    \"action\": \"Final Answer\",\n",
      "    \"action_input\": \"Based on the information provided, it is difficult to determine if the candidate's skills match the requirements of the Operations Expert job. While the candidate's resume lists technical skills and certifications in data analytics and deep learning, the job requirements are focused on problem-solving, leadership, and organizational skills. It is possible that the candidate has these skills as well, but more information would be needed to make a definitive determination.\"\n",
      "}\u001b[0m\n",
      "\n",
      "\u001b[1m> Finished chain.\u001b[0m\n"
     ]
    },
    {
     "data": {
      "text/plain": [
       "{'input': 'do the resume and the jobsite skills match?',\n",
       " 'chat_history': [HumanMessage(content='what skills are mentioned in the resume?', additional_kwargs={}, example=False),\n",
       "  AIMessage(content=\"The skills mentioned in the resume are Technical Skills such as Python OpenCV, TensorFlow, MobileNets, NumPy, Pandas, Matplotlib, Seaborn, Plotly and Cuinks, Scikit-Learn, Cloud Microsoft Azure, Programming Languages Python, Java, C, C++, Database Management MySQL, IDEs Intellij Environment, Visual Studio, OS MacOS, Linux & Windows. Additionally, there are Certifications in Data Analytics using Deep Learning, Hewlett Packard Enterprise Education Services, Deep Learning, CORPORATE GURUKUL Global Academic Internship Programme on 'Data Analytics using Deep Learning, Introduction to TensorFlow for Artificial Intelligence, Machine Learning, and Deep Learning. Finally, there are Soft Skills such as being highly motivated to learn about new tools and technologies, ability to work under pressure, detail-oriented, critical thinker, problem solver, self-starter, great at time management, adaptability, and great interpersonal skills.\", additional_kwargs={}, example=False),\n",
       "  HumanMessage(content='what skills are mentioned in the job?', additional_kwargs={}, example=False),\n",
       "  AIMessage(content='The required skills for the Operations Expert job include the ability to think quickly and perform problem-solving tasks, leadership skills, and strong organizational skills. Additionally, you should be able to manage and meet multiple inventory deadlines each week, observe guidelines to allow secure access to products and movement through the stockroom, and be flexible with your schedule.', additional_kwargs={}, example=False),\n",
       "  HumanMessage(content='does the candidate have skills to do the job?', additional_kwargs={}, example=False),\n",
       "  AIMessage(content='The required skills for the Operations Expert job include the ability to think quickly and perform problem-solving tasks, leadership skills, and strong organizational skills. The job also requires the ability to manage and meet multiple inventory deadlines each week, willingness to observe guidelines to allow secure access to products and movement through the stockroom, and flexibility with work hours based on business needs.', additional_kwargs={}, example=False)],\n",
       " 'output': \"Based on the information provided, it is difficult to determine if the candidate's skills match the requirements of the Operations Expert job. While the candidate's resume lists technical skills and certifications in data analytics and deep learning, the job requirements are focused on problem-solving, leadership, and organizational skills. It is possible that the candidate has these skills as well, but more information would be needed to make a definitive determination.\"}"
      ]
     },
     "execution_count": 53,
     "metadata": {},
     "output_type": "execute_result"
    }
   ],
   "source": [
    "conversational_agent(\"do the resume and the jobsite skills match?\")"
   ]
  },
  {
   "cell_type": "code",
   "execution_count": 54,
   "metadata": {},
   "outputs": [
    {
     "name": "stdout",
     "output_type": "stream",
     "text": [
      "\n",
      "\n",
      "\u001b[1m> Entering new AgentExecutor chain...\u001b[0m\n",
      "\u001b[32;1m\u001b[1;3m```json\n",
      "{\n",
      "    \"action\": \"job_question\",\n",
      "    \"action_input\": \"What specific skills or qualifications are required for the Operations Expert job?\"\n",
      "}\n",
      "```\u001b[0m\n",
      "Observation: \u001b[33;1m\u001b[1;3mAccording to the job description, the Operations Expert should have the ability to think quickly and perform problem-solving tasks, even within changing conditions. They should also have leadership skills, whether guiding by example or coaching a group, and strong organizational skills, quickly evaluating every situation. Additionally, the job requires the ability to manage and meet multiple inventory deadlines each week, willingness to observe guidelines to allow secure access to products and movement through the stockroom, and flexibility with work hours based on business needs.\u001b[0m\n",
      "Thought:\u001b[32;1m\u001b[1;3m```json\n",
      "{\n",
      "    \"action\": \"Final Answer\",\n",
      "    \"action_input\": \"Based on the job requirements, the candidate should focus on developing skills in problem-solving, leadership, and organizational skills. They should also be able to manage multiple inventory deadlines, observe guidelines, and be flexible with work hours.\"\n",
      "}\n",
      "```\u001b[0m\n",
      "\n",
      "\u001b[1m> Finished chain.\u001b[0m\n"
     ]
    },
    {
     "data": {
      "text/plain": [
       "{'input': 'how should the candidate update his skills to get the job?',\n",
       " 'chat_history': [HumanMessage(content='what skills are mentioned in the resume?', additional_kwargs={}, example=False),\n",
       "  AIMessage(content=\"The skills mentioned in the resume are Technical Skills such as Python OpenCV, TensorFlow, MobileNets, NumPy, Pandas, Matplotlib, Seaborn, Plotly and Cuinks, Scikit-Learn, Cloud Microsoft Azure, Programming Languages Python, Java, C, C++, Database Management MySQL, IDEs Intellij Environment, Visual Studio, OS MacOS, Linux & Windows. Additionally, there are Certifications in Data Analytics using Deep Learning, Hewlett Packard Enterprise Education Services, Deep Learning, CORPORATE GURUKUL Global Academic Internship Programme on 'Data Analytics using Deep Learning, Introduction to TensorFlow for Artificial Intelligence, Machine Learning, and Deep Learning. Finally, there are Soft Skills such as being highly motivated to learn about new tools and technologies, ability to work under pressure, detail-oriented, critical thinker, problem solver, self-starter, great at time management, adaptability, and great interpersonal skills.\", additional_kwargs={}, example=False),\n",
       "  HumanMessage(content='what skills are mentioned in the job?', additional_kwargs={}, example=False),\n",
       "  AIMessage(content='The required skills for the Operations Expert job include the ability to think quickly and perform problem-solving tasks, leadership skills, and strong organizational skills. Additionally, you should be able to manage and meet multiple inventory deadlines each week, observe guidelines to allow secure access to products and movement through the stockroom, and be flexible with your schedule.', additional_kwargs={}, example=False),\n",
       "  HumanMessage(content='does the candidate have skills to do the job?', additional_kwargs={}, example=False),\n",
       "  AIMessage(content='The required skills for the Operations Expert job include the ability to think quickly and perform problem-solving tasks, leadership skills, and strong organizational skills. The job also requires the ability to manage and meet multiple inventory deadlines each week, willingness to observe guidelines to allow secure access to products and movement through the stockroom, and flexibility with work hours based on business needs.', additional_kwargs={}, example=False),\n",
       "  HumanMessage(content='do the resume and the jobsite skills match?', additional_kwargs={}, example=False),\n",
       "  AIMessage(content=\"Based on the information provided, it is difficult to determine if the candidate's skills match the requirements of the Operations Expert job. While the candidate's resume lists technical skills and certifications in data analytics and deep learning, the job requirements are focused on problem-solving, leadership, and organizational skills. It is possible that the candidate has these skills as well, but more information would be needed to make a definitive determination.\", additional_kwargs={}, example=False)],\n",
       " 'output': 'Based on the job requirements, the candidate should focus on developing skills in problem-solving, leadership, and organizational skills. They should also be able to manage multiple inventory deadlines, observe guidelines, and be flexible with work hours.'}"
      ]
     },
     "execution_count": 54,
     "metadata": {},
     "output_type": "execute_result"
    }
   ],
   "source": [
    "conversational_agent(\"how should the candidate update his skills to get the job?\")"
   ]
  },
  {
   "cell_type": "code",
   "execution_count": 56,
   "metadata": {},
   "outputs": [
    {
     "name": "stdout",
     "output_type": "stream",
     "text": [
      "\n",
      "\n",
      "\u001b[1m> Entering new AgentExecutor chain...\u001b[0m\n",
      "\u001b[32;1m\u001b[1;3m```json\n",
      "{\n",
      "    \"action\": \"resume_question\",\n",
      "    \"action_input\": \"Do the skills mentioned in the candidate's resume match the requirements for the Operations Expert job?\"\n",
      "}\n",
      "```\u001b[0m\n",
      "Observation: \u001b[36;1m\u001b[1;3mI'm sorry, I don't have information about the specific requirements for the Operations Expert job. Can you please provide me with more details about the job requirements?\u001b[0m\n",
      "Thought:"
     ]
    },
    {
     "ename": "OutputParserException",
     "evalue": "Could not parse LLM output: I apologize for the confusion. Based on the job requirements you provided earlier, the candidate's technical skills in data analytics and deep learning may not be directly relevant to the Operations Expert job. However, the candidate's soft skills such as problem-solving, time management, and adaptability may be transferable to the job. \n\n```json\n{\n    \"action\": \"Final Answer\",\n    \"action_input\": \"While the candidate's technical skills may not be directly relevant to the Operations Expert job, their soft skills such as problem-solving, time management, and adaptability may be transferable to the job.\"\n}\n```",
     "output_type": "error",
     "traceback": [
      "\u001b[0;31m---------------------------------------------------------------------------\u001b[0m",
      "\u001b[0;31mJSONDecodeError\u001b[0m                           Traceback (most recent call last)",
      "File \u001b[0;32m~/opt/anaconda3/envs/pdfgpt/lib/python3.10/site-packages/langchain/agents/conversational_chat/output_parser.py:17\u001b[0m, in \u001b[0;36mConvoOutputParser.parse\u001b[0;34m(self, text)\u001b[0m\n\u001b[1;32m     16\u001b[0m \u001b[39mtry\u001b[39;00m:\n\u001b[0;32m---> 17\u001b[0m     response \u001b[39m=\u001b[39m parse_json_markdown(text)\n\u001b[1;32m     18\u001b[0m     action, action_input \u001b[39m=\u001b[39m response[\u001b[39m\"\u001b[39m\u001b[39maction\u001b[39m\u001b[39m\"\u001b[39m], response[\u001b[39m\"\u001b[39m\u001b[39maction_input\u001b[39m\u001b[39m\"\u001b[39m]\n",
      "File \u001b[0;32m~/opt/anaconda3/envs/pdfgpt/lib/python3.10/site-packages/langchain/output_parsers/json.py:17\u001b[0m, in \u001b[0;36mparse_json_markdown\u001b[0;34m(json_string)\u001b[0m\n\u001b[1;32m     16\u001b[0m \u001b[39m# Parse the JSON string into a Python dictionary\u001b[39;00m\n\u001b[0;32m---> 17\u001b[0m parsed \u001b[39m=\u001b[39m json\u001b[39m.\u001b[39;49mloads(json_string)\n\u001b[1;32m     19\u001b[0m \u001b[39mreturn\u001b[39;00m parsed\n",
      "File \u001b[0;32m~/opt/anaconda3/envs/pdfgpt/lib/python3.10/json/__init__.py:346\u001b[0m, in \u001b[0;36mloads\u001b[0;34m(s, cls, object_hook, parse_float, parse_int, parse_constant, object_pairs_hook, **kw)\u001b[0m\n\u001b[1;32m    343\u001b[0m \u001b[39mif\u001b[39;00m (\u001b[39mcls\u001b[39m \u001b[39mis\u001b[39;00m \u001b[39mNone\u001b[39;00m \u001b[39mand\u001b[39;00m object_hook \u001b[39mis\u001b[39;00m \u001b[39mNone\u001b[39;00m \u001b[39mand\u001b[39;00m\n\u001b[1;32m    344\u001b[0m         parse_int \u001b[39mis\u001b[39;00m \u001b[39mNone\u001b[39;00m \u001b[39mand\u001b[39;00m parse_float \u001b[39mis\u001b[39;00m \u001b[39mNone\u001b[39;00m \u001b[39mand\u001b[39;00m\n\u001b[1;32m    345\u001b[0m         parse_constant \u001b[39mis\u001b[39;00m \u001b[39mNone\u001b[39;00m \u001b[39mand\u001b[39;00m object_pairs_hook \u001b[39mis\u001b[39;00m \u001b[39mNone\u001b[39;00m \u001b[39mand\u001b[39;00m \u001b[39mnot\u001b[39;00m kw):\n\u001b[0;32m--> 346\u001b[0m     \u001b[39mreturn\u001b[39;00m _default_decoder\u001b[39m.\u001b[39;49mdecode(s)\n\u001b[1;32m    347\u001b[0m \u001b[39mif\u001b[39;00m \u001b[39mcls\u001b[39m \u001b[39mis\u001b[39;00m \u001b[39mNone\u001b[39;00m:\n",
      "File \u001b[0;32m~/opt/anaconda3/envs/pdfgpt/lib/python3.10/json/decoder.py:337\u001b[0m, in \u001b[0;36mJSONDecoder.decode\u001b[0;34m(self, s, _w)\u001b[0m\n\u001b[1;32m    333\u001b[0m \u001b[39m\u001b[39m\u001b[39m\"\"\"Return the Python representation of ``s`` (a ``str`` instance\u001b[39;00m\n\u001b[1;32m    334\u001b[0m \u001b[39mcontaining a JSON document).\u001b[39;00m\n\u001b[1;32m    335\u001b[0m \n\u001b[1;32m    336\u001b[0m \u001b[39m\"\"\"\u001b[39;00m\n\u001b[0;32m--> 337\u001b[0m obj, end \u001b[39m=\u001b[39m \u001b[39mself\u001b[39;49m\u001b[39m.\u001b[39;49mraw_decode(s, idx\u001b[39m=\u001b[39;49m_w(s, \u001b[39m0\u001b[39;49m)\u001b[39m.\u001b[39;49mend())\n\u001b[1;32m    338\u001b[0m end \u001b[39m=\u001b[39m _w(s, end)\u001b[39m.\u001b[39mend()\n",
      "File \u001b[0;32m~/opt/anaconda3/envs/pdfgpt/lib/python3.10/json/decoder.py:355\u001b[0m, in \u001b[0;36mJSONDecoder.raw_decode\u001b[0;34m(self, s, idx)\u001b[0m\n\u001b[1;32m    354\u001b[0m \u001b[39mexcept\u001b[39;00m \u001b[39mStopIteration\u001b[39;00m \u001b[39mas\u001b[39;00m err:\n\u001b[0;32m--> 355\u001b[0m     \u001b[39mraise\u001b[39;00m JSONDecodeError(\u001b[39m\"\u001b[39m\u001b[39mExpecting value\u001b[39m\u001b[39m\"\u001b[39m, s, err\u001b[39m.\u001b[39mvalue) \u001b[39mfrom\u001b[39;00m \u001b[39mNone\u001b[39;00m\n\u001b[1;32m    356\u001b[0m \u001b[39mreturn\u001b[39;00m obj, end\n",
      "\u001b[0;31mJSONDecodeError\u001b[0m: Expecting value: line 1 column 1 (char 0)",
      "\nThe above exception was the direct cause of the following exception:\n",
      "\u001b[0;31mOutputParserException\u001b[0m                     Traceback (most recent call last)",
      "Cell \u001b[0;32mIn[56], line 1\u001b[0m\n\u001b[0;32m----> 1\u001b[0m conversational_agent(\u001b[39m\"\u001b[39;49m\u001b[39maccording to the resume, does the candidate have the skills for the job?\u001b[39;49m\u001b[39m\"\u001b[39;49m)\n",
      "File \u001b[0;32m~/opt/anaconda3/envs/pdfgpt/lib/python3.10/site-packages/langchain/chains/base.py:140\u001b[0m, in \u001b[0;36mChain.__call__\u001b[0;34m(self, inputs, return_only_outputs, callbacks)\u001b[0m\n\u001b[1;32m    138\u001b[0m \u001b[39mexcept\u001b[39;00m (\u001b[39mKeyboardInterrupt\u001b[39;00m, \u001b[39mException\u001b[39;00m) \u001b[39mas\u001b[39;00m e:\n\u001b[1;32m    139\u001b[0m     run_manager\u001b[39m.\u001b[39mon_chain_error(e)\n\u001b[0;32m--> 140\u001b[0m     \u001b[39mraise\u001b[39;00m e\n\u001b[1;32m    141\u001b[0m run_manager\u001b[39m.\u001b[39mon_chain_end(outputs)\n\u001b[1;32m    142\u001b[0m \u001b[39mreturn\u001b[39;00m \u001b[39mself\u001b[39m\u001b[39m.\u001b[39mprep_outputs(inputs, outputs, return_only_outputs)\n",
      "File \u001b[0;32m~/opt/anaconda3/envs/pdfgpt/lib/python3.10/site-packages/langchain/chains/base.py:134\u001b[0m, in \u001b[0;36mChain.__call__\u001b[0;34m(self, inputs, return_only_outputs, callbacks)\u001b[0m\n\u001b[1;32m    128\u001b[0m run_manager \u001b[39m=\u001b[39m callback_manager\u001b[39m.\u001b[39mon_chain_start(\n\u001b[1;32m    129\u001b[0m     {\u001b[39m\"\u001b[39m\u001b[39mname\u001b[39m\u001b[39m\"\u001b[39m: \u001b[39mself\u001b[39m\u001b[39m.\u001b[39m\u001b[39m__class__\u001b[39m\u001b[39m.\u001b[39m\u001b[39m__name__\u001b[39m},\n\u001b[1;32m    130\u001b[0m     inputs,\n\u001b[1;32m    131\u001b[0m )\n\u001b[1;32m    132\u001b[0m \u001b[39mtry\u001b[39;00m:\n\u001b[1;32m    133\u001b[0m     outputs \u001b[39m=\u001b[39m (\n\u001b[0;32m--> 134\u001b[0m         \u001b[39mself\u001b[39;49m\u001b[39m.\u001b[39;49m_call(inputs, run_manager\u001b[39m=\u001b[39;49mrun_manager)\n\u001b[1;32m    135\u001b[0m         \u001b[39mif\u001b[39;00m new_arg_supported\n\u001b[1;32m    136\u001b[0m         \u001b[39melse\u001b[39;00m \u001b[39mself\u001b[39m\u001b[39m.\u001b[39m_call(inputs)\n\u001b[1;32m    137\u001b[0m     )\n\u001b[1;32m    138\u001b[0m \u001b[39mexcept\u001b[39;00m (\u001b[39mKeyboardInterrupt\u001b[39;00m, \u001b[39mException\u001b[39;00m) \u001b[39mas\u001b[39;00m e:\n\u001b[1;32m    139\u001b[0m     run_manager\u001b[39m.\u001b[39mon_chain_error(e)\n",
      "File \u001b[0;32m~/opt/anaconda3/envs/pdfgpt/lib/python3.10/site-packages/langchain/agents/agent.py:951\u001b[0m, in \u001b[0;36mAgentExecutor._call\u001b[0;34m(self, inputs, run_manager)\u001b[0m\n\u001b[1;32m    949\u001b[0m \u001b[39m# We now enter the agent loop (until it returns something).\u001b[39;00m\n\u001b[1;32m    950\u001b[0m \u001b[39mwhile\u001b[39;00m \u001b[39mself\u001b[39m\u001b[39m.\u001b[39m_should_continue(iterations, time_elapsed):\n\u001b[0;32m--> 951\u001b[0m     next_step_output \u001b[39m=\u001b[39m \u001b[39mself\u001b[39;49m\u001b[39m.\u001b[39;49m_take_next_step(\n\u001b[1;32m    952\u001b[0m         name_to_tool_map,\n\u001b[1;32m    953\u001b[0m         color_mapping,\n\u001b[1;32m    954\u001b[0m         inputs,\n\u001b[1;32m    955\u001b[0m         intermediate_steps,\n\u001b[1;32m    956\u001b[0m         run_manager\u001b[39m=\u001b[39;49mrun_manager,\n\u001b[1;32m    957\u001b[0m     )\n\u001b[1;32m    958\u001b[0m     \u001b[39mif\u001b[39;00m \u001b[39misinstance\u001b[39m(next_step_output, AgentFinish):\n\u001b[1;32m    959\u001b[0m         \u001b[39mreturn\u001b[39;00m \u001b[39mself\u001b[39m\u001b[39m.\u001b[39m_return(\n\u001b[1;32m    960\u001b[0m             next_step_output, intermediate_steps, run_manager\u001b[39m=\u001b[39mrun_manager\n\u001b[1;32m    961\u001b[0m         )\n",
      "File \u001b[0;32m~/opt/anaconda3/envs/pdfgpt/lib/python3.10/site-packages/langchain/agents/agent.py:773\u001b[0m, in \u001b[0;36mAgentExecutor._take_next_step\u001b[0;34m(self, name_to_tool_map, color_mapping, inputs, intermediate_steps, run_manager)\u001b[0m\n\u001b[1;32m    771\u001b[0m     raise_error \u001b[39m=\u001b[39m \u001b[39mFalse\u001b[39;00m\n\u001b[1;32m    772\u001b[0m \u001b[39mif\u001b[39;00m raise_error:\n\u001b[0;32m--> 773\u001b[0m     \u001b[39mraise\u001b[39;00m e\n\u001b[1;32m    774\u001b[0m text \u001b[39m=\u001b[39m \u001b[39mstr\u001b[39m(e)\n\u001b[1;32m    775\u001b[0m \u001b[39mif\u001b[39;00m \u001b[39misinstance\u001b[39m(\u001b[39mself\u001b[39m\u001b[39m.\u001b[39mhandle_parsing_errors, \u001b[39mbool\u001b[39m):\n",
      "File \u001b[0;32m~/opt/anaconda3/envs/pdfgpt/lib/python3.10/site-packages/langchain/agents/agent.py:762\u001b[0m, in \u001b[0;36mAgentExecutor._take_next_step\u001b[0;34m(self, name_to_tool_map, color_mapping, inputs, intermediate_steps, run_manager)\u001b[0m\n\u001b[1;32m    756\u001b[0m \u001b[39m\u001b[39m\u001b[39m\"\"\"Take a single step in the thought-action-observation loop.\u001b[39;00m\n\u001b[1;32m    757\u001b[0m \n\u001b[1;32m    758\u001b[0m \u001b[39mOverride this to take control of how the agent makes and acts on choices.\u001b[39;00m\n\u001b[1;32m    759\u001b[0m \u001b[39m\"\"\"\u001b[39;00m\n\u001b[1;32m    760\u001b[0m \u001b[39mtry\u001b[39;00m:\n\u001b[1;32m    761\u001b[0m     \u001b[39m# Call the LLM to see what to do.\u001b[39;00m\n\u001b[0;32m--> 762\u001b[0m     output \u001b[39m=\u001b[39m \u001b[39mself\u001b[39;49m\u001b[39m.\u001b[39;49magent\u001b[39m.\u001b[39;49mplan(\n\u001b[1;32m    763\u001b[0m         intermediate_steps,\n\u001b[1;32m    764\u001b[0m         callbacks\u001b[39m=\u001b[39;49mrun_manager\u001b[39m.\u001b[39;49mget_child() \u001b[39mif\u001b[39;49;00m run_manager \u001b[39melse\u001b[39;49;00m \u001b[39mNone\u001b[39;49;00m,\n\u001b[1;32m    765\u001b[0m         \u001b[39m*\u001b[39;49m\u001b[39m*\u001b[39;49minputs,\n\u001b[1;32m    766\u001b[0m     )\n\u001b[1;32m    767\u001b[0m \u001b[39mexcept\u001b[39;00m OutputParserException \u001b[39mas\u001b[39;00m e:\n\u001b[1;32m    768\u001b[0m     \u001b[39mif\u001b[39;00m \u001b[39misinstance\u001b[39m(\u001b[39mself\u001b[39m\u001b[39m.\u001b[39mhandle_parsing_errors, \u001b[39mbool\u001b[39m):\n",
      "File \u001b[0;32m~/opt/anaconda3/envs/pdfgpt/lib/python3.10/site-packages/langchain/agents/agent.py:444\u001b[0m, in \u001b[0;36mAgent.plan\u001b[0;34m(self, intermediate_steps, callbacks, **kwargs)\u001b[0m\n\u001b[1;32m    442\u001b[0m full_inputs \u001b[39m=\u001b[39m \u001b[39mself\u001b[39m\u001b[39m.\u001b[39mget_full_inputs(intermediate_steps, \u001b[39m*\u001b[39m\u001b[39m*\u001b[39mkwargs)\n\u001b[1;32m    443\u001b[0m full_output \u001b[39m=\u001b[39m \u001b[39mself\u001b[39m\u001b[39m.\u001b[39mllm_chain\u001b[39m.\u001b[39mpredict(callbacks\u001b[39m=\u001b[39mcallbacks, \u001b[39m*\u001b[39m\u001b[39m*\u001b[39mfull_inputs)\n\u001b[0;32m--> 444\u001b[0m \u001b[39mreturn\u001b[39;00m \u001b[39mself\u001b[39;49m\u001b[39m.\u001b[39;49moutput_parser\u001b[39m.\u001b[39;49mparse(full_output)\n",
      "File \u001b[0;32m~/opt/anaconda3/envs/pdfgpt/lib/python3.10/site-packages/langchain/agents/conversational_chat/output_parser.py:24\u001b[0m, in \u001b[0;36mConvoOutputParser.parse\u001b[0;34m(self, text)\u001b[0m\n\u001b[1;32m     22\u001b[0m         \u001b[39mreturn\u001b[39;00m AgentAction(action, action_input, text)\n\u001b[1;32m     23\u001b[0m \u001b[39mexcept\u001b[39;00m \u001b[39mException\u001b[39;00m \u001b[39mas\u001b[39;00m e:\n\u001b[0;32m---> 24\u001b[0m     \u001b[39mraise\u001b[39;00m OutputParserException(\u001b[39mf\u001b[39m\u001b[39m\"\u001b[39m\u001b[39mCould not parse LLM output: \u001b[39m\u001b[39m{\u001b[39;00mtext\u001b[39m}\u001b[39;00m\u001b[39m\"\u001b[39m) \u001b[39mfrom\u001b[39;00m \u001b[39me\u001b[39;00m\n",
      "\u001b[0;31mOutputParserException\u001b[0m: Could not parse LLM output: I apologize for the confusion. Based on the job requirements you provided earlier, the candidate's technical skills in data analytics and deep learning may not be directly relevant to the Operations Expert job. However, the candidate's soft skills such as problem-solving, time management, and adaptability may be transferable to the job. \n\n```json\n{\n    \"action\": \"Final Answer\",\n    \"action_input\": \"While the candidate's technical skills may not be directly relevant to the Operations Expert job, their soft skills such as problem-solving, time management, and adaptability may be transferable to the job.\"\n}\n```"
     ]
    }
   ],
   "source": [
    "conversational_agent(\"according to the resume, does the candidate have the skills for the job?\")"
   ]
  },
  {
   "cell_type": "code",
   "execution_count": 57,
   "metadata": {},
   "outputs": [],
   "source": [
    "#trying another angent:\n",
    "\n",
    "conversational_agent = initialize_agent(\n",
    "    agent='zero-shot-react-description',\n",
    "    tools=tools,\n",
    "    llm=llm,\n",
    "    verbose=True,\n",
    "    max_iterations=3,\n",
    "    early_stopping_method='generate',\n",
    "    memory=memory\n",
    ")"
   ]
  },
  {
   "cell_type": "code",
   "execution_count": 58,
   "metadata": {},
   "outputs": [
    {
     "name": "stderr",
     "output_type": "stream",
     "text": [
      "Retrying langchain.chat_models.openai.ChatOpenAI.completion_with_retry.<locals>._completion_with_retry in 1.0 seconds as it raised APIConnectionError: Error communicating with OpenAI: ('Connection aborted.', RemoteDisconnected('Remote end closed connection without response')).\n"
     ]
    },
    {
     "name": "stdout",
     "output_type": "stream",
     "text": [
      "\n",
      "\n",
      "\u001b[1m> Entering new AgentExecutor chain...\u001b[0m\n",
      "\u001b[32;1m\u001b[1;3mI need to look at the resume to answer this question.\n",
      "Action: resume_question\n",
      "Action Input: \"What skills are mentioned in the resume?\"\u001b[0m\n",
      "Observation: \u001b[36;1m\u001b[1;3mThe skills mentioned in the resume are:\n",
      "\n",
      "Technical Skills:\n",
      "- Python OpenCV, TensorFlow, MobileNets, NumPy, Pandas, Matplotlib, Seaborn, Plotly and Cuinks, Scikit-Learn\n",
      "- Cloud Microsoft Azure\n",
      "- Programming Languages Python, Java, C, C++\n",
      "- Database Management MySQL\n",
      "- IDEs Intellij Environment, Visual Studio\n",
      "- OS MacOS, Linux & Windows\n",
      "\n",
      "Certifications:\n",
      "- Data Analytics using Deep Learning, NUS Singapore\n",
      "- Hewlett Packard Enterprise Education Services, Deep Learning\n",
      "- CORPORATE GURUKUL Global Academic Internship Programme on 'Data Analytics using Deep Learning\n",
      "- Introduction to TensorFlow for Artificial Intelligence, Machine Learning, and Deep Learning\n",
      "\n",
      "Soft Skills:\n",
      "- Highly motivated to learn about new tools and technologies\n",
      "- Ability to Work Under Pressure\n",
      "- Detail-Oriented\n",
      "- Critical Thinker\n",
      "- Problem Solver\n",
      "- Self-Starter\n",
      "- Great at Time Management\n",
      "- Adaptability\n",
      "- Great Interpersonal Skills\u001b[0m\n",
      "Thought:\u001b[32;1m\u001b[1;3mI now know the skills mentioned in the resume. \n",
      "Final Answer: The skills mentioned in the resume include technical skills such as Python, OpenCV, TensorFlow, and Scikit-Learn, as well as certifications in Data Analytics and Deep Learning. The resume also lists soft skills such as adaptability, time management, and interpersonal skills.\u001b[0m\n",
      "\n",
      "\u001b[1m> Finished chain.\u001b[0m\n"
     ]
    },
    {
     "data": {
      "text/plain": [
       "{'input': 'what skills are mentioned in the resume?',\n",
       " 'chat_history': [HumanMessage(content='what skills are mentioned in the resume?', additional_kwargs={}, example=False),\n",
       "  AIMessage(content=\"The skills mentioned in the resume are Technical Skills such as Python OpenCV, TensorFlow, MobileNets, NumPy, Pandas, Matplotlib, Seaborn, Plotly and Cuinks, Scikit-Learn, Cloud Microsoft Azure, Programming Languages Python, Java, C, C++, Database Management MySQL, IDEs Intellij Environment, Visual Studio, OS MacOS, Linux & Windows. Additionally, there are Certifications in Data Analytics using Deep Learning, Hewlett Packard Enterprise Education Services, Deep Learning, CORPORATE GURUKUL Global Academic Internship Programme on 'Data Analytics using Deep Learning, Introduction to TensorFlow for Artificial Intelligence, Machine Learning, and Deep Learning. Finally, there are Soft Skills such as being highly motivated to learn about new tools and technologies, ability to work under pressure, detail-oriented, critical thinker, problem solver, self-starter, great at time management, adaptability, and great interpersonal skills.\", additional_kwargs={}, example=False),\n",
       "  HumanMessage(content='what skills are mentioned in the job?', additional_kwargs={}, example=False),\n",
       "  AIMessage(content='The required skills for the Operations Expert job include the ability to think quickly and perform problem-solving tasks, leadership skills, and strong organizational skills. Additionally, you should be able to manage and meet multiple inventory deadlines each week, observe guidelines to allow secure access to products and movement through the stockroom, and be flexible with your schedule.', additional_kwargs={}, example=False),\n",
       "  HumanMessage(content='does the candidate have skills to do the job?', additional_kwargs={}, example=False),\n",
       "  AIMessage(content='The required skills for the Operations Expert job include the ability to think quickly and perform problem-solving tasks, leadership skills, and strong organizational skills. The job also requires the ability to manage and meet multiple inventory deadlines each week, willingness to observe guidelines to allow secure access to products and movement through the stockroom, and flexibility with work hours based on business needs.', additional_kwargs={}, example=False),\n",
       "  HumanMessage(content='do the resume and the jobsite skills match?', additional_kwargs={}, example=False),\n",
       "  AIMessage(content=\"Based on the information provided, it is difficult to determine if the candidate's skills match the requirements of the Operations Expert job. While the candidate's resume lists technical skills and certifications in data analytics and deep learning, the job requirements are focused on problem-solving, leadership, and organizational skills. It is possible that the candidate has these skills as well, but more information would be needed to make a definitive determination.\", additional_kwargs={}, example=False),\n",
       "  HumanMessage(content='how should the candidate update his skills to get the job?', additional_kwargs={}, example=False),\n",
       "  AIMessage(content='Based on the job requirements, the candidate should focus on developing skills in problem-solving, leadership, and organizational skills. They should also be able to manage multiple inventory deadlines, observe guidelines, and be flexible with work hours.', additional_kwargs={}, example=False)],\n",
       " 'output': 'The skills mentioned in the resume include technical skills such as Python, OpenCV, TensorFlow, and Scikit-Learn, as well as certifications in Data Analytics and Deep Learning. The resume also lists soft skills such as adaptability, time management, and interpersonal skills.'}"
      ]
     },
     "execution_count": 58,
     "metadata": {},
     "output_type": "execute_result"
    }
   ],
   "source": [
    "conversational_agent(\"what skills are mentioned in the resume?\")"
   ]
  },
  {
   "cell_type": "code",
   "execution_count": 59,
   "metadata": {},
   "outputs": [
    {
     "name": "stdout",
     "output_type": "stream",
     "text": [
      "\n",
      "\n",
      "\u001b[1m> Entering new AgentExecutor chain...\u001b[0m\n",
      "\u001b[32;1m\u001b[1;3mI need to compare the skills listed in the resume with the ones mentioned in the job description.\n",
      "Action: resume_question\n",
      "Action Input: \"What are the skills listed in the resume?\"\u001b[0m\n",
      "Observation: \u001b[36;1m\u001b[1;3mThe technical skills listed in the resume are Python OpenCV, TensorFlow, MobileNets, NumPy, Pandas, Matplotlib, Seaborn, Plotly and CuDNN, Scikit-Learn, Cloud Microsoft Azure, Programming Languages Python, Java, C, C++, Database Management MySQL, IDEs Intellij Environment, Visual Studio, and OS MacOS, Linux & Windows. The soft skills listed in the resume are Highly motivated to learn about new tools and technologies, Ability to Work Under Pressure, Detail-Oriented, Critical Thinker, Problem Solver, Self-Starter, Great at Time Management, Adaptability, and Great Interpersonal Skills.\u001b[0m\n",
      "Thought:\u001b[32;1m\u001b[1;3mNow I need to compare the skills listed in the job description.\n",
      "Action: job_question\n",
      "Action Input: \"What are the skills mentioned in the job description?\"\u001b[0m\n",
      "Observation: \u001b[33;1m\u001b[1;3mThe job description mentions the following skills:\n",
      "- Ability to think quickly and perform problem-solving tasks, even within changing conditions.\n",
      "- Leadership skills, whether guiding by example or coaching a group.\n",
      "- Strong organizational skills, quickly evaluating every situation.\u001b[0m\n",
      "Thought:\u001b[32;1m\u001b[1;3mThere are no technical skills mentioned in the job description, only soft skills related to problem-solving and leadership.\n",
      "Final Answer: No, there are no technical skills mentioned in the job description to compare with the ones listed in the resume. However, the soft skills listed in the resume match the ones mentioned in the job description.\u001b[0m\n",
      "\n",
      "\u001b[1m> Finished chain.\u001b[0m\n"
     ]
    },
    {
     "data": {
      "text/plain": [
       "{'input': 'Do the skills in the resme match the one in the job description?',\n",
       " 'chat_history': [HumanMessage(content='what skills are mentioned in the job?', additional_kwargs={}, example=False),\n",
       "  AIMessage(content='The required skills for the Operations Expert job include the ability to think quickly and perform problem-solving tasks, leadership skills, and strong organizational skills. Additionally, you should be able to manage and meet multiple inventory deadlines each week, observe guidelines to allow secure access to products and movement through the stockroom, and be flexible with your schedule.', additional_kwargs={}, example=False),\n",
       "  HumanMessage(content='does the candidate have skills to do the job?', additional_kwargs={}, example=False),\n",
       "  AIMessage(content='The required skills for the Operations Expert job include the ability to think quickly and perform problem-solving tasks, leadership skills, and strong organizational skills. The job also requires the ability to manage and meet multiple inventory deadlines each week, willingness to observe guidelines to allow secure access to products and movement through the stockroom, and flexibility with work hours based on business needs.', additional_kwargs={}, example=False),\n",
       "  HumanMessage(content='do the resume and the jobsite skills match?', additional_kwargs={}, example=False),\n",
       "  AIMessage(content=\"Based on the information provided, it is difficult to determine if the candidate's skills match the requirements of the Operations Expert job. While the candidate's resume lists technical skills and certifications in data analytics and deep learning, the job requirements are focused on problem-solving, leadership, and organizational skills. It is possible that the candidate has these skills as well, but more information would be needed to make a definitive determination.\", additional_kwargs={}, example=False),\n",
       "  HumanMessage(content='how should the candidate update his skills to get the job?', additional_kwargs={}, example=False),\n",
       "  AIMessage(content='Based on the job requirements, the candidate should focus on developing skills in problem-solving, leadership, and organizational skills. They should also be able to manage multiple inventory deadlines, observe guidelines, and be flexible with work hours.', additional_kwargs={}, example=False),\n",
       "  HumanMessage(content='what skills are mentioned in the resume?', additional_kwargs={}, example=False),\n",
       "  AIMessage(content='The skills mentioned in the resume include technical skills such as Python, OpenCV, TensorFlow, and Scikit-Learn, as well as certifications in Data Analytics and Deep Learning. The resume also lists soft skills such as adaptability, time management, and interpersonal skills.', additional_kwargs={}, example=False)],\n",
       " 'output': 'No, there are no technical skills mentioned in the job description to compare with the ones listed in the resume. However, the soft skills listed in the resume match the ones mentioned in the job description.'}"
      ]
     },
     "execution_count": 59,
     "metadata": {},
     "output_type": "execute_result"
    }
   ],
   "source": [
    "conversational_agent(\"Do the skills in the resme match the one in the job description?\")"
   ]
  },
  {
   "cell_type": "code",
   "execution_count": 1,
   "metadata": {},
   "outputs": [
    {
     "ename": "NameError",
     "evalue": "name 'initialize_agent' is not defined",
     "output_type": "error",
     "traceback": [
      "\u001b[0;31m---------------------------------------------------------------------------\u001b[0m",
      "\u001b[0;31mNameError\u001b[0m                                 Traceback (most recent call last)",
      "Cell \u001b[0;32mIn[1], line 1\u001b[0m\n\u001b[0;32m----> 1\u001b[0m conversational_agent \u001b[39m=\u001b[39m initialize_agent(\n\u001b[1;32m      2\u001b[0m     agent\u001b[39m=\u001b[39m\u001b[39m'\u001b[39m\u001b[39mchat-conversational-react-description\u001b[39m\u001b[39m'\u001b[39m,\n\u001b[1;32m      3\u001b[0m     tools\u001b[39m=\u001b[39mtools,\n\u001b[1;32m      4\u001b[0m     llm\u001b[39m=\u001b[39mllm,\n\u001b[1;32m      5\u001b[0m     verbose\u001b[39m=\u001b[39m\u001b[39mTrue\u001b[39;00m,\n\u001b[1;32m      6\u001b[0m     max_iterations\u001b[39m=\u001b[39m\u001b[39m3\u001b[39m,\n\u001b[1;32m      7\u001b[0m     early_stopping_method\u001b[39m=\u001b[39m\u001b[39m'\u001b[39m\u001b[39mgenerate\u001b[39m\u001b[39m'\u001b[39m,\n\u001b[1;32m      8\u001b[0m     memory\u001b[39m=\u001b[39mmemory\n\u001b[1;32m      9\u001b[0m \n\u001b[1;32m     10\u001b[0m )\n",
      "\u001b[0;31mNameError\u001b[0m: name 'initialize_agent' is not defined"
     ]
    }
   ],
   "source": [
    "conversational_agent = initialize_agent(\n",
    "    agent='chat-conversational-react-description',\n",
    "    tools=tools,\n",
    "    llm=llm,\n",
    "    verbose=True,\n",
    "    max_iterations=3,\n",
    "    early_stopping_method='generate',\n",
    "    memory=memory\n",
    "\n",
    ")"
   ]
  },
  {
   "cell_type": "code",
   "execution_count": 2,
   "metadata": {},
   "outputs": [
    {
     "ename": "NameError",
     "evalue": "name 'conversational_agent' is not defined",
     "output_type": "error",
     "traceback": [
      "\u001b[0;31m---------------------------------------------------------------------------\u001b[0m",
      "\u001b[0;31mNameError\u001b[0m                                 Traceback (most recent call last)",
      "Cell \u001b[0;32mIn[2], line 1\u001b[0m\n\u001b[0;32m----> 1\u001b[0m conversational_agent(\u001b[39m\"\u001b[39m\u001b[39mDo the skills in the resme match the one in the job description?\u001b[39m\u001b[39m\"\u001b[39m)\n",
      "\u001b[0;31mNameError\u001b[0m: name 'conversational_agent' is not defined"
     ]
    }
   ],
   "source": [
    "conversational_agent(\"Do the skills in the resme match the one in the job description?\")"
   ]
  },
  {
   "cell_type": "code",
   "execution_count": null,
   "metadata": {},
   "outputs": [],
   "source": []
  }
 ],
 "metadata": {
  "kernelspec": {
   "display_name": "pdfgpt",
   "language": "python",
   "name": "python3"
  },
  "language_info": {
   "codemirror_mode": {
    "name": "ipython",
    "version": 3
   },
   "file_extension": ".py",
   "mimetype": "text/x-python",
   "name": "python",
   "nbconvert_exporter": "python",
   "pygments_lexer": "ipython3",
   "version": "3.10.11"
  },
  "orig_nbformat": 4
 },
 "nbformat": 4,
 "nbformat_minor": 2
}
