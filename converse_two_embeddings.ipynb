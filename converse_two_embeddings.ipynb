{
 "cells": [
  {
   "attachments": {},
   "cell_type": "markdown",
   "metadata": {},
   "source": [
    "The goal is to create embeddings for 2 different type of docs and converse between them"
   ]
  },
  {
   "cell_type": "code",
   "execution_count": 54,
   "metadata": {},
   "outputs": [],
   "source": [
    "!python create_web_embeddings.py"
   ]
  },
  {
   "attachments": {},
   "cell_type": "markdown",
   "metadata": {},
   "source": [
    "The above code was used to create embeddings for a job post that i randomly found"
   ]
  },
  {
   "cell_type": "code",
   "execution_count": 36,
   "metadata": {},
   "outputs": [],
   "source": [
    "from dotenv import load_dotenv\n",
    "import os\n",
    "import pickle\n",
    "from langchain.chains import RetrievalQAWithSourcesChain\n",
    "from langchain.chains.question_answering import load_qa_chain\n",
    "from langchain import OpenAI\n",
    "from langchain.chat_models import ChatOpenAI\n",
    "from langchain.embeddings import OpenAIEmbeddings\n",
    "load_dotenv()\n",
    "os.environ[\"OPENAI_API_KEY\"] = os.getenv('OPENAI_API_KEY')"
   ]
  },
  {
   "cell_type": "code",
   "execution_count": 39,
   "metadata": {},
   "outputs": [
    {
     "name": "stdout",
     "output_type": "stream",
     "text": [
      "{'answer': 'The job name is US-Operations Expert or Operations Expert.\\n', 'sources': 'https://jobs.apple.com/en-us/details/114438152/us-operations-expert?team=APPST'}\n"
     ]
    }
   ],
   "source": [
    "#testing that embedding\n",
    "from langchain import FAISS\n",
    "embeddings = OpenAIEmbeddings()\n",
    "VectorStore = FAISS.load_local(\"website_embeddings\",embeddings)\n",
    "\n",
    "llm = ChatOpenAI(temperature=0,model_name='gpt-3.5-turbo')\n",
    "\n",
    "chain = RetrievalQAWithSourcesChain.from_llm(llm=llm, retriever=VectorStore.as_retriever())\n",
    "\n",
    "print(chain({\"question\": \"what is the job name?\"}, return_only_outputs=True))"
   ]
  },
  {
   "cell_type": "code",
   "execution_count": 55,
   "metadata": {},
   "outputs": [],
   "source": [
    "!python create_pdf_embeddings.py"
   ]
  },
  {
   "cell_type": "code",
   "execution_count": 45,
   "metadata": {},
   "outputs": [
    {
     "name": "stdout",
     "output_type": "stream",
     "text": [
      "{'answer': 'The technical skills listed are Python OpenCV, TensorFlow, MobileNets, NumPy, Pandas, Matplotlib, Seaborn, Plotly and Cu\\x0finks, Scikit-Learn, Microsoft Azure, Python, Java, C, C++, MySQL, Intellij Environment, Visual Studio, MacOS, Linux & Windows. The soft skills listed are Highly motivated to learn about new tools and technologies, Ability to Work Under Pressure, Detail-Oriented, Critical Thinker, Problem Solver, Self-Starter, Great at Time Management, Adaptability, Great Interpersonal Skills.\\n', 'sources': 'resume.pdf'}\n"
     ]
    }
   ],
   "source": [
    "VectorStore = FAISS.load_local(\"pdf_embeddings\",embeddings)\n",
    "\n",
    "chain = RetrievalQAWithSourcesChain.from_llm(llm=llm, retriever=VectorStore.as_retriever())\n",
    "\n",
    "print(chain({\"question\": \"what are the skills listed?\"}, return_only_outputs=True))"
   ]
  },
  {
   "cell_type": "code",
   "execution_count": 56,
   "metadata": {},
   "outputs": [],
   "source": [
    "#merging two vectors:\n",
    "VectorStore1 = FAISS.load_local(\"pdf_embeddings\",embeddings)\n",
    "VectorStore2 = FAISS.load_local(\"website_embeddings\",embeddings)\n",
    "VectorStore1.merge_from(VectorStore2)"
   ]
  },
  {
   "cell_type": "code",
   "execution_count": 57,
   "metadata": {},
   "outputs": [
    {
     "data": {
      "text/plain": [
       "{'8ace0599-32be-4953-adb9-54305c78bdc7': Document(page_content='ARYAN S PILLAI\\nVellore Institute of Technology, Vellore\\nCSE WITH SPECIALIZATION IN BUSINESS SYSTEMS\\nhttps://github.com/aryan619348 \\x05aryansantosh.pillai2020@vitstudent.ac.in\\nEXPERIENCE\\nData Analytics using Deep Learning at NUS (December,2022)\\nCompleted a comprehensive course related to data analytics and deep learning under reputed professors\\nat NUS.\\nDeep Learning with HPE (December,2022)\\nCompleted HPE seminars for azure deployment and deployed a live project on azure cloud.\\nUsing AI Models for Market Segmentation(Aug,2022-Sep,2022)\\nResearched AI techniques that are currently being used to conduct market segmentation by businesses\\nand compared algorithms including Biclustering, SKC, Kmeans algorithms to see how the results di\\x0ber\\ndevelop a better algorithm.\\nPROJECTS\\nStock Market Price Prediction\\nCreated a LSTM model and a CNN-LSTM model to predict the future prices of NIFTY stock index\\nand deployed the model using Azure Cloud Services.\\nPPE detection Model\\nDeveloped models to detect PPE kits using TensorFlow, MobileNets, Keras and OpenCV and created\\nFlask API for ease of deployment.\\nObject Detection App\\nCreated an object detection app on android using TensorFlow Lite.\\nMNIST GAN\\nDeveloped computer-generated handwritten digits using GAN and the MNIST dataset.\\nHandwritten Equation Solver\\nCreated a web application using TensorFlow.js to take handwritten polynomial equations as input and\\nreturn the results.\\nIMDB Reviews NLP\\nExplored the IMDB dataset and created an \"Embedding\" for the reviews, here words and associated\\nwords are clustered as vectors in a multi-dimensional space. The reviews were categorized as positive\\nand negative.\\nCats VS Dogs\\nExplored the Dogs vs Cats data from Kaggle and created a deep learning model for the Dogs vs Cats\\ndataset and explored how image augmentation can be used to improve the testing accuracy of our\\nmodel. Also Used transfer learning and applied a pre-trained model to the dataset.', metadata={'source': 'resume.pdf', 'page': 0}),\n",
       " 'ac230c8d-6490-49a8-8082-357e1ace7ad2': Document(page_content=\"TECHNICAL SKILLS\\nPython OpenCV, TensorFlow, MobileNets, NumPy, Pandas, Matplotlib, Seaborn,\\nPlotly and Cu\\x0finks, Scikit-Learn\\nCloud Microsoft Azure\\nProgramming Languages Python, Java, C, C++\\nDatabase Management MySQL\\nIDEs Intellij Environment, Visual Studio\\nOS MacOS, Linux & Windows\\nCERTIFICATIONS\\nData Analytics using Deep Learning, NUS Singapore\\nHewlett Packard Enterprise Education Services, Deep Learning\\nCORPORATE GURUKUL Global Academic Internship Programme on 'Data Analyt-\\nics using Deep Learning\\nIntroduction to TensorFlow for Arti\\x0ccial Intelligence, Machine Learning, and Deep Learn-\\ning\\nhttps://coursera.org/share/f3f36a4fcfc7b4f879507aa683fa693b\\nSOFT SKILLS\\nHighly motivated to learn about new, tools an technologies, Ability to Work Under Pres-\\nsure, Detail-Oriented, Critical Thinker, Problem Solver, Self-Starter, Great at Time Man-\\nagement, Adaptability, Great Interpersonal Skills\", metadata={'source': 'resume.pdf', 'page': 1}),\n",
       " 'c30abe92-5bab-497f-8055-c6ead3255cbc': Document(page_content=\"US-Operations Expert\\n\\nUnited States\\n\\nApple Retail\\n\\nAdd to Favorites US-Operations Expert\\n\\nRemoved from favorites\\n\\nTo view your favorites, sign in with your Apple ID.\\n\\nSign In\\n\\nDon’t have an Apple ID?\\n\\nCreate one now\\n\\nForgot your Apple ID or password?\\n\\nShare US-Operations Expert\\n\\nWhere we're hiringUS-Operations Expert\\n\\nSubmit ResumeUS-Operations Expert\\n\\nBack to search results\\n\\nSummary\\n\\nPosted: Jun 6, 2023\\n\\nRole Number:\\n\\nDo you love how it feels to make someone’s day?  As an Operations Expert, you know better than anyone else the satisfaction of getting the latest Apple product into your hands. So it’s up to you to make sure customers are just as satisfied. By guiding and mentoring your team, you help keep pace with changing demands and make sure every product and demo machine is where it should be. At the end of the day, it’s your organizational skills and dedication that are at the heart of what the Apple Store does — connecting people to the products they love.\\n\\nKey Qualifications\\n\\nKey Qualifications\\n\\nAbility to think quickly and perform problem-solving tasks, even within changing conditions.\\n\\nLeadership skills, whether guiding by example or coaching a group.\\n\\nStrong organizational skills, quickly evaluating every situation.\\n\\nDescription\\n\\nDescription\", metadata={'source': 'https://jobs.apple.com/en-us/details/114438152/us-operations-expert?team=APPST'}),\n",
       " '2dba09b4-81a9-4c1f-a040-7f6b868773bf': Document(page_content=\"Leadership skills, whether guiding by example or coaching a group.\\n\\nStrong organizational skills, quickly evaluating every situation.\\n\\nDescription\\n\\nDescription\\n\\nAs an Operations Expert, you and your team have the incredible responsibility of ensuring products take the final step in the supply chain: getting into customers' hands. You're in charge of the store's entire inventory - products, parts, tools, supplies, and everything else. You make sure your team has the support, knowledge, and resources required to maintain product availability, complete inventory tasks, and keep the stockroom organized as new products arrive. You're in constant contact with the management and leadership teams, sharing data about the status of products and parts. And when exciting new products arrive, you're the first to open them up and present them to the entire store team. Apple makes the products, but you make it happen by being ready to place our products in customers' hands.\\n\\nEducation & Experience\\n\\nEducation & Experience\\n\\nAdditional Requirements\\n\\nAdditional Requirements\\n\\n•You can manage and meet multiple inventory deadlines each week.\\n\\n•You’re willing to observe guidelines to allow secure access to products and movement through the stockroom.\\n\\n•You’ll need to be flexible with your schedule. Your work hours will be based on business needs.\\n\\nPay & Benefits\\n\\nPay & Benefits\", metadata={'source': 'https://jobs.apple.com/en-us/details/114438152/us-operations-expert?team=APPST'}),\n",
       " '8789937f-ebea-4ce0-9cc6-8749eeafd2bc': Document(page_content=\"•You’ll need to be flexible with your schedule. Your work hours will be based on business needs.\\n\\nPay & Benefits\\n\\nPay & Benefits\\n\\nAt Apple, base pay is one part of our total compensation package and is determined within a range. This provides the opportunity to progress as you grow and develop within a role. Your base pay will depend on your skills, qualifications, experience, and location.Apple employees also have the opportunity to become an Apple shareholder through participation in Apple’s discretionary employee stock programs. Apple employees are eligible for discretionary restricted stock unit awards, and can purchase Apple stock at a discount if voluntarily participating in Apple’s Employee Stock Purchase Plan. You’ll also receive benefits including: Comprehensive medical and dental coverage, retirement benefits, a range of discounted products and free services, and for formal education related to advancing your career at Apple, reimbursement for certain educational expenses — including tuition. Additionally, this role might be eligible for discretionary bonuses or commission payments as well as relocation. Learn more about Apple Benefits.For information about pay, if you are interested in roles located in one of our California, Colorado, New York or Washington locations  click here to select a store and view pay information. Note: Apple benefit, compensation and employee stock programs are subject to eligibility requirements and other terms of the applicable plan or program.\\n\\nWhere we're hiringUS-Operations Expert\\n\\nSubmit ResumeUS-Operations Expert\\n\\nBack to search results\\n\\nAdd to Favorites US-Operations Expert\\n\\nRemoved from favorites\\n\\nTo view your favorites, sign in with your Apple ID.\\n\\nSign In\\n\\nDon’t have an Apple ID?\\n\\nCreate one now\\n\\nForgot your Apple ID or password?\\n\\nShare US-Operations Expert\\n\\nSee all roles in  United States\", metadata={'source': 'https://jobs.apple.com/en-us/details/114438152/us-operations-expert?team=APPST'})}"
      ]
     },
     "execution_count": 57,
     "metadata": {},
     "output_type": "execute_result"
    }
   ],
   "source": [
    "VectorStore1.docstore._dict\n"
   ]
  },
  {
   "cell_type": "code",
   "execution_count": 60,
   "metadata": {},
   "outputs": [
    {
     "name": "stdout",
     "output_type": "stream",
     "text": [
      "{'answer': 'For the first three content sections, there is no relevant text to answer the question about job requirements or whether Aryan Pillai has them. For the last content section, the job requirements include managing and meeting multiple inventory deadlines each week, observing guidelines for secure access to products and movement through the stockroom, and being flexible with work hours based on business needs. It is not mentioned whether Aryan Pillai has these requirements.\\n', 'sources': 'resume.pdf, https://jobs.apple.com/en-us/details/114438152/us-operations-expert?team=APPST'}\n"
     ]
    }
   ],
   "source": [
    "chain = RetrievalQAWithSourcesChain.from_llm(llm=llm, retriever=VectorStore1.as_retriever())\n",
    "print(chain({\"question\": \"what are the job requirements? and does aryan pillai have them?\"}, return_only_outputs=True))"
   ]
  },
  {
   "attachments": {},
   "cell_type": "markdown",
   "metadata": {},
   "source": [
    "The result is not what i wanted at all 😞 "
   ]
  },
  {
   "attachments": {},
   "cell_type": "markdown",
   "metadata": {},
   "source": [
    "lets try creating the embeddings together."
   ]
  },
  {
   "cell_type": "code",
   "execution_count": 4,
   "metadata": {},
   "outputs": [],
   "source": [
    "!python create_multiplefiletype_embeddings.py"
   ]
  },
  {
   "cell_type": "code",
   "execution_count": 10,
   "metadata": {},
   "outputs": [
    {
     "name": "stdout",
     "output_type": "stream",
     "text": [
      "{'answer': 'Aryan possesses skills in data analytics, deep learning, AI techniques, LSTM modeling, CNN-LSTM modeling, TensorFlow, MobileNets, Keras, OpenCV, GAN, TensorFlow.js, and image augmentation.\\n', 'sources': 'resume.pdf'}\n"
     ]
    }
   ],
   "source": [
    "from langchain.chains.question_answering import load_qa_chain\n",
    "from langchain.chat_models import ChatOpenAI\n",
    "from langchain.chains import RetrievalQAWithSourcesChain\n",
    "\n",
    "import pickle\n",
    "\n",
    "with open(\"multiple_file_embeddings.pkl\", \"rb\") as f:\n",
    "    VectorStore = pickle.load(f)\n",
    "\n",
    "llm = ChatOpenAI(temperature=0,model_name='gpt-3.5-turbo')\n",
    "\n",
    "chain = RetrievalQAWithSourcesChain.from_llm(llm=llm, retriever=VectorStore.as_retriever())\n",
    "\n",
    "print(chain({\"question\": \"Tell me skill possesed by aryan\"}, return_only_outputs=True))"
   ]
  },
  {
   "cell_type": "code",
   "execution_count": 12,
   "metadata": {},
   "outputs": [
    {
     "name": "stdout",
     "output_type": "stream",
     "text": [
      "{'answer': 'Skills needed for the job posted by Apple include the ability to think quickly and perform problem-solving tasks, leadership skills, strong organizational skills, ability to manage and meet multiple inventory deadlines, willingness to observe guidelines for secure access to products and movement through the stockroom, and flexibility with work schedule.\\n', 'sources': 'https://jobs.apple.com/en-us/details/114438152/us-operations-expert?team=APPST'}\n"
     ]
    }
   ],
   "source": [
    "print(chain({\"question\": \"Tell me skills needed for the job posted by apple\"}, return_only_outputs=True))"
   ]
  },
  {
   "cell_type": "code",
   "execution_count": 13,
   "metadata": {},
   "outputs": [
    {
     "name": "stdout",
     "output_type": "stream",
     "text": [
      "{'answer': \"I don't know. \\n\", 'sources': 'None.'}\n"
     ]
    }
   ],
   "source": [
    "print(chain({\"question\": \"Does aryan have the necessary skills for the apple job?\"}, return_only_outputs=True))"
   ]
  },
  {
   "attachments": {},
   "cell_type": "markdown",
   "metadata": {},
   "source": [
    "WELL THAT DOES NOT WORK TOO  😞 "
   ]
  },
  {
   "attachments": {},
   "cell_type": "markdown",
   "metadata": {},
   "source": [
    "LETS TRY A CHAIN WITH MEMORY? maybe that works????"
   ]
  },
  {
   "cell_type": "code",
   "execution_count": 30,
   "metadata": {},
   "outputs": [],
   "source": [
    "from langchain.chains.conversation.memory import ConversationSummaryMemory\n",
    "from langchain import OpenAI\n",
    "\n",
    "llm = ChatOpenAI(temperature=0,model_name='gpt-3.5-turbo')\n",
    "\n",
    "chain = load_qa_chain(llm=llm, chain_type=\"stuff\")\n"
   ]
  },
  {
   "cell_type": "code",
   "execution_count": 33,
   "metadata": {},
   "outputs": [
    {
     "name": "stdout",
     "output_type": "stream",
     "text": [
      "Aryan's technical skills include Python OpenCV, TensorFlow, MobileNets, NumPy, Pandas, Matplotlib, Seaborn, Plotly, Cuinks, Scikit-Learn, Microsoft Azure, MySQL, Python, Java, C, C++, Intellij Environment, Visual Studio, MacOS, Linux & Windows. He also has certifications in Data Analytics using Deep Learning, Hewlett Packard Enterprise Education Services, Deep Learning, and Introduction to TensorFlow for Artificial Intelligence, Machine Learning, and Deep Learning. \n",
      "\n",
      "In terms of soft skills, Aryan is highly motivated to learn about new tools and technologies, able to work under pressure, detail-oriented, critical thinker, problem solver, self-starter, great at time management, adaptable, and has great interpersonal skills.\n"
     ]
    }
   ],
   "source": [
    "with open(\"multiple_file_embeddings.pkl\", \"rb\") as f:\n",
    "    docsearch = pickle.load(f)\n",
    "\n",
    "query=\"What is are aryans skills?\"\n",
    "docs = docsearch.similarity_search(query)\n",
    "\n",
    "print(chain.run(input_documents=docs, question=query))\n"
   ]
  },
  {
   "cell_type": "code",
   "execution_count": 34,
   "metadata": {},
   "outputs": [
    {
     "name": "stdout",
     "output_type": "stream",
     "text": [
      "The Operations Expert job requires strong organizational skills, the ability to think quickly and perform problem-solving tasks, and leadership skills, whether guiding by example or coaching a group. Additionally, the job requires the ability to manage and meet multiple inventory deadlines each week, flexibility with your schedule, and the willingness to observe guidelines to allow secure access to products and movement through the stockroom.\n"
     ]
    }
   ],
   "source": [
    "query=\"What is are skills needed for the job?\"\n",
    "docs = docsearch.similarity_search(query)\n",
    "print(chain.run(input_documents=docs, question=query))"
   ]
  },
  {
   "cell_type": "code",
   "execution_count": 35,
   "metadata": {},
   "outputs": [
    {
     "name": "stdout",
     "output_type": "stream",
     "text": [
      "Based on the information provided, it is not possible to determine if Aryan has the skills needed for the job as the job requirements and qualifications are not specified.\n"
     ]
    }
   ],
   "source": [
    "query=\"Does aryan have the skills needed for the job?\"\n",
    "docs = docsearch.similarity_search(query)\n",
    "print(chain.run(input_documents=docs, question=query))"
   ]
  },
  {
   "cell_type": "code",
   "execution_count": 36,
   "metadata": {},
   "outputs": [
    {
     "name": "stdout",
     "output_type": "stream",
     "text": [
      "Based on the context provided, there is no information about whether Aryan has the skills needed for the Operations Expert job at Apple Retail. The context only provides information about Aryan's education, experience, projects, technical skills, certifications, and soft skills.\n"
     ]
    }
   ],
   "source": [
    "query=\"Does aryan have the skills needed for the Operations Expert job?\"\n",
    "docs = docsearch.similarity_search(query)\n",
    "print(chain.run(input_documents=docs, question=query))"
   ]
  },
  {
   "cell_type": "code",
   "execution_count": null,
   "metadata": {},
   "outputs": [],
   "source": []
  },
  {
   "cell_type": "code",
   "execution_count": null,
   "metadata": {},
   "outputs": [],
   "source": []
  }
 ],
 "metadata": {
  "kernelspec": {
   "display_name": "pdfgpt",
   "language": "python",
   "name": "python3"
  },
  "language_info": {
   "codemirror_mode": {
    "name": "ipython",
    "version": 3
   },
   "file_extension": ".py",
   "mimetype": "text/x-python",
   "name": "python",
   "nbconvert_exporter": "python",
   "pygments_lexer": "ipython3",
   "version": "3.10.11"
  },
  "orig_nbformat": 4
 },
 "nbformat": 4,
 "nbformat_minor": 2
}
