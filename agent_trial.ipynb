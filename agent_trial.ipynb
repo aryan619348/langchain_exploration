{
 "cells": [
  {
   "cell_type": "code",
   "execution_count": 37,
   "metadata": {},
   "outputs": [],
   "source": [
    "from dotenv import load_dotenv\n",
    "import os\n",
    "load_dotenv()\n",
    "os.environ[\"OPENAI_API_KEY\"] = os.getenv('OPENAI_API_KEY')"
   ]
  },
  {
   "cell_type": "code",
   "execution_count": 38,
   "metadata": {},
   "outputs": [],
   "source": [
    "from langchain import OpenAI \n",
    "from langchain.chat_models import ChatOpenAI\n",
    "from langchain.chains.conversation.memory import ConversationBufferWindowMemory\n"
   ]
  },
  {
   "cell_type": "code",
   "execution_count": 39,
   "metadata": {},
   "outputs": [
    {
     "name": "stdout",
     "output_type": "stream",
     "text": [
      "\n",
      "\n",
      "\u001b[1m> Entering new AgentExecutor chain...\u001b[0m\n",
      "\u001b[32;1m\u001b[1;3m{\n",
      "    \"action\": \"DuckDuckGo Search\",\n",
      "    \"action_input\": \"list the first 10 data scientist jobs on linkedin\"\n",
      "}\u001b[0m\n",
      "Observation: \u001b[36;1m\u001b[1;3mIn 2022, becoming a data engineer has become a truly lucrative career option with a median base salary of $97,769 in the US. The numbers are also high when we talk about the UK. Here we get to a ... In order to build a great Data Science LinkedIn feed follow these top Data Science Experts on LinkedIn. ... the joint author of the post on \"Data Scientist: The Sexiest Job of the 21st Century ... Data science has become a key and central technology for this information age and data scientists has been dubbed the sexiest job of the 21st century. 15. Asif Razzaq. Talks about #ai, # ... In this blog post, we will highlight 10 data science jobs in the USA that are currently hiring and offer visa sponsorship to qualified candidates. Data Scientist at Amazon (Location: Seattle, WA ... 1. Data Scientist Let's start with the most general role: data scientist. As a data scientist you'll deal with all aspects of a project from knowing what's important to the business, to data collection and analysis, and finally to data visualization and presentations. A data scientist is a jack of all trades.\u001b[0m\n",
      "Thought:\u001b[32;1m\u001b[1;3m{\n",
      "    \"action\": \"Final Answer\",\n",
      "    \"action_input\": \"Based on my search, here are some general details about a data scientist role: A data scientist deals with all aspects of a project from knowing what's important to the business, to data collection and analysis, and finally to data visualization and presentations. They are considered a jack of all trades in the field of data science. Additionally, becoming a data scientist has become a lucrative career option with high median base salaries in the US and UK. There are also many data science jobs currently hiring in the USA that offer visa sponsorship to qualified candidates.\"\n",
      "}\u001b[0m\n",
      "\n",
      "\u001b[1m> Finished chain.\u001b[0m\n"
     ]
    },
    {
     "data": {
      "text/plain": [
       "{'input': 'list the first 10 data scientist jobs you can find on linkedin',\n",
       " 'chat_history': [HumanMessage(content='tell me the details for this job https://www.linkedin.com/jobs/collections/recommended/?currentJobId=3623818212', additional_kwargs={}, example=False),\n",
       "  AIMessage(content=\"I apologize for the confusion earlier. Unfortunately, I was unable to find any job postings related to data science on LinkedIn in London city for today's date. However, I did find some general information about data science roles and responsibilities that may be helpful. According to the information I found, a data scientist deals with all aspects of a project from knowing what's important to the business, to data collection and analysis, and finally to data visualization and presentations. They are considered a jack of all trades in the field of data science.\", additional_kwargs={}, example=False),\n",
       "  HumanMessage(content='tell me the details for this job https://www.linkedin.com/jobs/collections/recommended/?currentJobId=3623818212', additional_kwargs={}, example=False),\n",
       "  AIMessage(content='I apologize for the confusion earlier. The link you provided seems to be a general LinkedIn job search page, and not a specific job posting. Therefore, I cannot provide details for a specific job. However, you can use the LinkedIn job search feature to find job postings related to your interests and qualifications. Good luck with your job search!', additional_kwargs={}, example=False),\n",
       "  HumanMessage(content='Is there an article about Clubhouse on https://techcrunch.com/? today', additional_kwargs={}, example=False),\n",
       "  AIMessage(content=\"Based on a search query, I found that Clubhouse, a social audio app, has laid off more than half of its staff. The company is also rolling out a new dark mode setting on its iOS and Android apps starting today. Additionally, Clubhouse is looking to shake up its platform with the launch of private communities called 'Houses'. The app grew users 10x month over month during its 'hype moment' and took the No. 1 spot at the App Store in several countries.\", additional_kwargs={}, example=False)],\n",
       " 'output': \"Based on my search, here are some general details about a data scientist role: A data scientist deals with all aspects of a project from knowing what's important to the business, to data collection and analysis, and finally to data visualization and presentations. They are considered a jack of all trades in the field of data science. Additionally, becoming a data scientist has become a lucrative career option with high median base salaries in the US and UK. There are also many data science jobs currently hiring in the USA that offer visa sponsorship to qualified candidates.\"}"
      ]
     },
     "execution_count": 39,
     "metadata": {},
     "output_type": "execute_result"
    }
   ],
   "source": [
    "conversational_agent(\"list the first 10 data scientist jobs you can find on linkedin\")"
   ]
  },
  {
   "cell_type": "code",
   "execution_count": 30,
   "metadata": {},
   "outputs": [],
   "source": [
    "fixed_prompt = '''Assistant is a large language model trained by OpenAI.\n",
    "\n",
    "Assistant is designed to be able to assist with a wide range of tasks, from answering simple questions to providing in-depth explanations and discussions on a wide range of topics. As a language model, Assistant is able to generate human-like text based on the input it receives, allowing it to engage in natural-sounding conversations and provide responses that are coherent and relevant to the topic at hand.\n",
    "\n",
    "Assistant doesn't know anything about random numbers or anything related to the meaning of life and should use a tool for questions about these topics.\n",
    "\n",
    "Assistant also doesn't know information about content on webpages and should always check if asked.\n",
    "\n",
    "Overall, Assistant is a powerful system that can help with a wide range of tasks and provide valuable insights and information on a wide range of topics. Whether you need help with a specific question or just want to have a conversation about a particular topic, Assistant is here to assist.'''"
   ]
  },
  {
   "cell_type": "code",
   "execution_count": 31,
   "metadata": {},
   "outputs": [],
   "source": [
    "conversational_agent.agent.llm_chain.prompt.messages[0].prompt.template = fixed_prompt"
   ]
  },
  {
   "cell_type": "code",
   "execution_count": 32,
   "metadata": {},
   "outputs": [],
   "source": [
    "from bs4 import BeautifulSoup\n",
    "import requests\n",
    "\n",
    "def stripped_webpage(webpage):\n",
    "    response = requests.get(webpage)\n",
    "    html_content = response.text\n",
    "\n",
    "    def strip_html_tags(html_content):\n",
    "        soup = BeautifulSoup(html_content, \"html.parser\")\n",
    "        stripped_text = soup.get_text()\n",
    "        return stripped_text\n",
    "\n",
    "    stripped_content = strip_html_tags(html_content)\n",
    "\n",
    "    if len(stripped_content) > 4000:\n",
    "        stripped_content = stripped_content[:4000]\n",
    "    return stripped_content\n"
   ]
  },
  {
   "cell_type": "code",
   "execution_count": 33,
   "metadata": {},
   "outputs": [],
   "source": [
    "class WebPageTool(BaseTool):\n",
    "    name = \"Get Webpage\"\n",
    "    description = \"Useful for when you need to get the content from a specific webpage\"\n",
    "\n",
    "    def _run(self, webpage: str):\n",
    "        response = requests.get(webpage)\n",
    "        html_content = response.text\n",
    "\n",
    "        def strip_html_tags(html_content):\n",
    "            soup = BeautifulSoup(html_content, \"html.parser\")\n",
    "            stripped_text = soup.get_text()\n",
    "            return stripped_text\n",
    "\n",
    "        stripped_content = strip_html_tags(html_content)\n",
    "        if len(stripped_content) > 4000:\n",
    "            stripped_content = stripped_content[:4000]\n",
    "        return stripped_content\n",
    "    \n",
    "    def _arun(self, webpage: str):\n",
    "        raise NotImplementedError(\"This tool does not support async\")\n",
    "\n",
    "page_getter = WebPageTool()"
   ]
  },
  {
   "cell_type": "code",
   "execution_count": 34,
   "metadata": {},
   "outputs": [],
   "source": [
    "tools = [page_getter]"
   ]
  },
  {
   "cell_type": "code",
   "execution_count": 36,
   "metadata": {},
   "outputs": [
    {
     "name": "stdout",
     "output_type": "stream",
     "text": [
      "\n",
      "\n",
      "\u001b[1m> Entering new AgentExecutor chain...\u001b[0m\n",
      "\u001b[32;1m\u001b[1;3m{\n",
      "    \"action\": \"DuckDuckGo Search\",\n",
      "    \"action_input\": \"Clubhouse site:techcrunch.com today\"\n",
      "}\u001b[0m\n",
      "Observation: \u001b[36;1m\u001b[1;3mClubhouse, a once skyrocketing social audio app built by Paul Davison and Rohan Seth, has laid off more than half of its staff.The startup's co-founders made the decision in response to customer ... Clubhouse is rolling out a new dark mode setting on its iOS and Android apps starting today, the company announced in a blog post this week. The company says dark mode was a highly requested feature a Clubhouse, the social audio app that rose in popularity amid the pandemic, is looking to shake up its platform with the launch of private communities called \"Houses.\" The company's new ... When social audio app Clubhouse launched in May of 2020 (with a $100 million valuation), it took off like a rocket ship fueled, in large part, by pandemic restrictions that made it difficult for ... Davison described Clubhouse's \"hype moment,\" during which the app grew users 10x month over month and took the No. 1 spot at the App Store in Japan, Hong Kong, Russia, Germany, Brazil and Italy.\u001b[0m\n",
      "Thought:\u001b[32;1m\u001b[1;3m{\n",
      "    \"action\": \"Final Answer\",\n",
      "    \"action_input\": \"Based on a search query, I found that Clubhouse, a social audio app, has laid off more than half of its staff. The company is also rolling out a new dark mode setting on its iOS and Android apps starting today. Additionally, Clubhouse is looking to shake up its platform with the launch of private communities called 'Houses'. The app grew users 10x month over month during its 'hype moment' and took the No. 1 spot at the App Store in several countries.\"\n",
      "}\u001b[0m\n",
      "\n",
      "\u001b[1m> Finished chain.\u001b[0m\n"
     ]
    },
    {
     "data": {
      "text/plain": [
       "\"Based on a search query, I found that Clubhouse, a social audio app, has laid off more than half of its staff. The company is also rolling out a new dark mode setting on its iOS and Android apps starting today. Additionally, Clubhouse is looking to shake up its platform with the launch of private communities called 'Houses'. The app grew users 10x month over month during its 'hype moment' and took the No. 1 spot at the App Store in several countries.\""
      ]
     },
     "execution_count": 36,
     "metadata": {},
     "output_type": "execute_result"
    }
   ],
   "source": [
    "conversational_agent.run(\"Is there an article about Clubhouse on https://techcrunch.com/? today\")"
   ]
  },
  {
   "cell_type": "code",
   "execution_count": null,
   "metadata": {},
   "outputs": [],
   "source": []
  }
 ],
 "metadata": {
  "kernelspec": {
   "display_name": "pdfgpt",
   "language": "python",
   "name": "python3"
  },
  "language_info": {
   "codemirror_mode": {
    "name": "ipython",
    "version": 3
   },
   "file_extension": ".py",
   "mimetype": "text/x-python",
   "name": "python",
   "nbconvert_exporter": "python",
   "pygments_lexer": "ipython3",
   "version": "3.10.11"
  },
  "orig_nbformat": 4
 },
 "nbformat": 4,
 "nbformat_minor": 2
}
